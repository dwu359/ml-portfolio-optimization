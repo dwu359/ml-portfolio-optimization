{
 "cells": [
  {
   "cell_type": "code",
   "execution_count": 11,
   "metadata": {},
   "outputs": [
    {
     "name": "stderr",
     "output_type": "stream",
     "text": [
      "[*********************100%%**********************]  1 of 1 completed"
     ]
    },
    {
     "name": "stderr",
     "output_type": "stream",
     "text": [
      "\n"
     ]
    }
   ],
   "source": [
    "import yfinance as yf\n",
    "import matplotlib.pyplot as plt\n",
    "import pandas as pd\n",
    "import csv\n",
    "\n",
    "ticker = 'AAPL'  # Apple Inc.\n",
    "ticker_data = yf.Ticker(ticker)\n",
    "\n",
    "data = yf.download(ticker, start='2018-01-01', end='2023-12-31')\n",
    "df =pd.DataFrame(data)\n",
    "df['ticker'] = ticker\n",
    "# Create a new column 'First_Day_Month' with the first day of the month for each date\n",
    "df['First_Day_Month'] = df.index.to_period('M').to_timestamp('M')\n",
    "\n",
    "# If you want the first day of the month as in '2024-01-01' format\n",
    "df['First_Day_Month'] = df['First_Day_Month'].apply(lambda x: x.replace(day=1))\n",
    "df.to_csv('yf_data.csv',index=True)\n",
    "\n",
    "\n",
    "datasets = [\n",
    "    'data/10yInterestrate_dataset.csv',\n",
    "    'data/GDP_dataset.csv',\n",
    "    'data/Median Consumer Price Index.csv',\n",
    "    'data/personal_saving_rate_dataset.csv',\n",
    "    'data/unemployed_dataset.csv'\n",
    "]\n",
    "\n",
    "for path in datasets:\n",
    "\n",
    "    temp_df = pd.read_csv(path)\n",
    "    temp_df['DATE'] = pd.to_datetime(temp_df['DATE'])\n",
    "    temp_df.set_index('DATE', inplace=True)\n",
    "    df = pd.merge(df, temp_df, left_on='First_Day_Month', right_index=True, how='left')\n",
    "\n",
    "df.to_csv('master_yf_data.csv',index=True)\n",
    "\n",
    "\n",
    "# # Plot closing prices\n",
    "# data['Close'].plot(title=f'{ticker} Closing Price')\n",
    "# plt.xlabel('Date')\n",
    "# plt.ylabel('Price')\n",
    "# plt.show()\n",
    "\n",
    "\n",
    "\n",
    "\n"
   ]
  },
  {
   "cell_type": "code",
   "execution_count": 4,
   "metadata": {},
   "outputs": [
    {
     "name": "stdout",
     "output_type": "stream",
     "text": [
      "Collecting matplotlib\n",
      "  Downloading matplotlib-3.8.3-cp311-cp311-win_amd64.whl (7.6 MB)\n",
      "                                              0.0/7.6 MB ? eta -:--:--\n",
      "                                              0.0/7.6 MB ? eta -:--:--\n",
      "                                              0.0/7.6 MB 435.7 kB/s eta 0:00:18\n",
      "                                              0.1/7.6 MB 751.6 kB/s eta 0:00:11\n",
      "     --                                       0.5/7.6 MB 3.2 MB/s eta 0:00:03\n",
      "     ----                                     1.0/7.6 MB 5.0 MB/s eta 0:00:02\n",
      "     -----------                              2.2/7.6 MB 8.7 MB/s eta 0:00:01\n",
      "     -------------------                      3.7/7.6 MB 12.4 MB/s eta 0:00:01\n",
      "     -------------------------------          6.0/7.6 MB 18.3 MB/s eta 0:00:01\n",
      "     ---------------------------------------  7.6/7.6 MB 21.3 MB/s eta 0:00:01\n",
      "     ---------------------------------------- 7.6/7.6 MB 19.5 MB/s eta 0:00:00\n",
      "Collecting contourpy>=1.0.1 (from matplotlib)\n",
      "  Downloading contourpy-1.2.0-cp311-cp311-win_amd64.whl (187 kB)\n",
      "                                              0.0/187.6 kB ? eta -:--:--\n",
      "     ------------------------------------- 187.6/187.6 kB 11.8 MB/s eta 0:00:00\n",
      "Collecting cycler>=0.10 (from matplotlib)\n",
      "  Using cached cycler-0.12.1-py3-none-any.whl (8.3 kB)\n",
      "Collecting fonttools>=4.22.0 (from matplotlib)\n",
      "  Downloading fonttools-4.49.0-cp311-cp311-win_amd64.whl (2.2 MB)\n",
      "                                              0.0/2.2 MB ? eta -:--:--\n",
      "     -------------------------------          1.7/2.2 MB 52.8 MB/s eta 0:00:01\n",
      "     ---------------------------------------- 2.2/2.2 MB 34.5 MB/s eta 0:00:00\n",
      "Collecting kiwisolver>=1.3.1 (from matplotlib)\n",
      "  Downloading kiwisolver-1.4.5-cp311-cp311-win_amd64.whl (56 kB)\n",
      "                                              0.0/56.1 kB ? eta -:--:--\n",
      "     ---------------------------------------- 56.1/56.1 kB 3.1 MB/s eta 0:00:00\n",
      "Requirement already satisfied: numpy<2,>=1.21 in c:\\users\\arami\\miniconda3\\lib\\site-packages (from matplotlib) (1.26.4)\n",
      "Requirement already satisfied: packaging>=20.0 in c:\\users\\arami\\miniconda3\\lib\\site-packages (from matplotlib) (23.0)\n",
      "Collecting pillow>=8 (from matplotlib)\n",
      "  Downloading pillow-10.2.0-cp311-cp311-win_amd64.whl (2.6 MB)\n",
      "                                              0.0/2.6 MB ? eta -:--:--\n",
      "     -----------------------------            1.9/2.6 MB 40.7 MB/s eta 0:00:01\n",
      "     ---------------------------------------- 2.6/2.6 MB 33.5 MB/s eta 0:00:00\n",
      "Collecting pyparsing>=2.3.1 (from matplotlib)\n",
      "  Using cached pyparsing-3.1.1-py3-none-any.whl (103 kB)\n",
      "Requirement already satisfied: python-dateutil>=2.7 in c:\\users\\arami\\miniconda3\\lib\\site-packages (from matplotlib) (2.8.2)\n",
      "Requirement already satisfied: six>=1.5 in c:\\users\\arami\\miniconda3\\lib\\site-packages (from python-dateutil>=2.7->matplotlib) (1.16.0)\n",
      "Installing collected packages: pyparsing, pillow, kiwisolver, fonttools, cycler, contourpy, matplotlib\n",
      "Successfully installed contourpy-1.2.0 cycler-0.12.1 fonttools-4.49.0 kiwisolver-1.4.5 matplotlib-3.8.3 pillow-10.2.0 pyparsing-3.1.1\n",
      "Note: you may need to restart the kernel to use updated packages.\n"
     ]
    }
   ],
   "source": [
    "pip install matplotlib"
   ]
  }
 ],
 "metadata": {
  "kernelspec": {
   "display_name": "Python 3",
   "language": "python",
   "name": "python3"
  },
  "language_info": {
   "codemirror_mode": {
    "name": "ipython",
    "version": 3
   },
   "file_extension": ".py",
   "mimetype": "text/x-python",
   "name": "python",
   "nbconvert_exporter": "python",
   "pygments_lexer": "ipython3",
   "version": "3.11.4"
  },
  "orig_nbformat": 4
 },
 "nbformat": 4,
 "nbformat_minor": 2
}
