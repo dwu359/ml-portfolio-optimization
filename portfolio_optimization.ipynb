{
 "cells": [
  {
   "attachments": {},
   "cell_type": "markdown",
   "id": "a8297e16-73a5-405f-9bd8-c767e71e914f",
   "metadata": {},
   "source": [
    "# Packages/ Imports"
   ]
  },
  {
   "cell_type": "code",
   "execution_count": null,
   "id": "9f950d76",
   "metadata": {},
   "outputs": [],
   "source": [
    "'''\n",
    "Update conda env using the following line in the /environment directory\n",
    "    ` conda env update --file ml_portfolio_opt_env_<OS>.yml --prune `\n",
    "'''"
   ]
  },
  {
   "cell_type": "code",
   "execution_count": null,
   "id": "1bda331f-1603-4798-98a0-99bd7e0618b0",
   "metadata": {},
   "outputs": [],
   "source": [
    "import sys\n",
    "import os\n",
    "import warnings\n",
    "warnings.filterwarnings(action='ignore')\n",
    "\n",
    "import math\n",
    "import numpy as np\n",
    "import pandas as pd\n",
    "import seaborn as sns\n",
    "import matplotlib.pyplot as plt\n",
    "import sklearn\n",
    "import yfinance as yf\n",
    "import statsmodels\n",
    "import pyfolio as pf\n",
    "\n",
    "# Import libraries for ARIMA\n",
    "from statsmodels.tsa.stattools import adfuller\n",
    "from statsmodels.tsa.seasonal import seasonal_decompose\n",
    "from statsmodels.tsa.arima.model import ARIMA\n",
    "from pmdarima.arima import auto_arima\n",
    "from sklearn.metrics import mean_squared_error, mean_absolute_error\n",
    "from sklearn.model_selection import train_test_split\n",
    "from sklearn.metrics import classification_report\n",
    "\n",
    "from src.myarima import MyARIMA\n",
    "from src.init_dataset import InitDataset\n",
    "from src.mykmeans import MyKMeans\n",
    "import src.utils as utils\n",
    "from src.mptoptimizer import MPTOptimizer\n",
    "from src.dbscan import MyDBSCAN\n",
    "\n",
    "print(\"Finished importing utils!\")"
   ]
  },
  {
   "attachments": {},
   "cell_type": "markdown",
   "id": "3349cc74",
   "metadata": {},
   "source": [
    "# Data Management"
   ]
  },
  {
   "cell_type": "code",
   "execution_count": null,
   "id": "d99d4028",
   "metadata": {},
   "outputs": [],
   "source": [
    "#Since dataset has been created, init is set to false\n",
    "InitDataset.create_econ_data(init=False)\n",
    "InitDataset.create_merged_stock_data(init=False)\n",
    "InitDataset.create_adj_closed_price(init=False)"
   ]
  },
  {
   "attachments": {},
   "cell_type": "markdown",
   "id": "d0c5bbb0",
   "metadata": {},
   "source": [
    "## Data Exploration"
   ]
  },
  {
   "cell_type": "code",
   "execution_count": null,
   "id": "9deab0bb",
   "metadata": {},
   "outputs": [],
   "source": [
    "# Load the dataset for the first ticker\n",
    "dateparse = lambda dates: pd.to_datetime(dates, format='%Y-%m-%d')\n",
    "stock_data = pd.read_csv(r'dataset/stock_data/AAPL_data.csv', parse_dates=['Date'], index_col='Date', date_parser=dateparse)\n",
    "stock_data.head()"
   ]
  },
  {
   "cell_type": "code",
   "execution_count": null,
   "id": "70f211f4",
   "metadata": {},
   "outputs": [],
   "source": [
    "# Check the shape of the dataset\n",
    "print(stock_data.shape)\n",
    "\n",
    "# Check the start and end date of the dataset\n",
    "print(stock_data.index.min())\n",
    "print(stock_data.index.max())\n",
    "\n",
    "# Duration of stock data\n",
    "duration = stock_data.index.max() - stock_data.index.min()\n",
    "print(duration)"
   ]
  },
  {
   "cell_type": "code",
   "execution_count": null,
   "id": "32d825bf",
   "metadata": {},
   "outputs": [],
   "source": [
    "# Data Cleaning and Sanity Check\n",
    "# Check for missing values\n",
    "print(stock_data.isnull().sum(), '\\n')\n",
    "# Check for duplicate values\n",
    "print(stock_data.duplicated().sum())\n",
    "# Describe the dataset\n",
    "print(stock_data.describe())"
   ]
  },
  {
   "attachments": {},
   "cell_type": "markdown",
   "id": "ce9a9047",
   "metadata": {},
   "source": [
    "# Initial Data Visualization"
   ]
  },
  {
   "cell_type": "code",
   "execution_count": null,
   "id": "4ebe9190",
   "metadata": {},
   "outputs": [],
   "source": [
    "# Plot the adjusted close price\n",
    "plt.figure(figsize=(10,6))\n",
    "plt.grid(True)\n",
    "plt.title('Adjusted Close Price of AAPL')\n",
    "plt.xlabel('Date')\n",
    "plt.ylabel('Adjusted Close Price')\n",
    "plt.plot(stock_data['Adj Close'])\n",
    "plt.show()"
   ]
  },
  {
   "cell_type": "code",
   "execution_count": null,
   "id": "c7a4e33c",
   "metadata": {},
   "outputs": [],
   "source": [
    "# KDE plot of the adjusted close price\n",
    "plt.figure(figsize=(10,6))\n",
    "sns.kdeplot(stock_data['Adj Close'], shade=True)\n",
    "plt.title('KDE plot of Adjusted Close Price')\n",
    "plt.xlabel('Adjusted Close Price')\n",
    "plt.ylabel('Density')\n",
    "plt.show()"
   ]
  },
  {
   "attachments": {},
   "cell_type": "markdown",
   "id": "28792016",
   "metadata": {},
   "source": [
    "# Models"
   ]
  },
  {
   "cell_type": "code",
   "execution_count": null,
   "id": "1d2ce443",
   "metadata": {},
   "outputs": [],
   "source": [
    "# Load the dataset\n",
    "test_data, train_data, index_data = InitDataset.get_test_train_data()"
   ]
  },
  {
   "cell_type": "code",
   "execution_count": null,
   "id": "73808baf",
   "metadata": {},
   "outputs": [],
   "source": [
    "portfolio_returns = train_data.pct_change()\n",
    "covariance = portfolio_returns.cov()*252\n",
    "# Heatmap of the covariance matrix\n",
    "plt.figure(figsize=(10,6))\n",
    "sns.heatmap(covariance, annot=True, cmap='coolwarm')\n",
    "plt.title('Covariance Matrix')\n",
    "plt.show()"
   ]
  },
  {
   "cell_type": "code",
   "execution_count": null,
   "id": "e8f14e7d",
   "metadata": {},
   "outputs": [],
   "source": [
    "# Allocate equal weights to all stocks\n",
    "\n",
    "weights = [0.25, 0.25, 0.25, 0.25, 0.25, 0.25, 0.25, 0.25, 0.25, 0.25, 0.25, 0.25]\n",
    "portfolio_variance = np.transpose(weights) @ covariance @ weights\n",
    "print(f'Portfolio Variance: {portfolio_variance}')"
   ]
  },
  {
   "cell_type": "code",
   "execution_count": null,
   "id": "8d91f9b5",
   "metadata": {},
   "outputs": [],
   "source": [
    "# Calculate the portfolio volatility\n",
    "\n",
    "windowed = portfolio_returns.rolling(30)\n",
    "volatility = windowed.std() * np.sqrt(252)\n",
    "volatility.plot(figsize=(10,6))\n",
    "plt.title('Portfolio Volatility')\n",
    "plt.xlabel('Date')\n",
    "plt.ylabel('Volatility')\n",
    "plt.show()"
   ]
  },
  {
   "cell_type": "code",
   "execution_count": null,
   "id": "a68b57a4",
   "metadata": {},
   "outputs": [],
   "source": [
    "# Plot the adjusted close price\n",
    "train_data.plot(title='Adjusted Close Price')\n",
    "plt.show()"
   ]
  },
  {
   "cell_type": "code",
   "execution_count": null,
   "id": "b6b93744",
   "metadata": {},
   "outputs": [],
   "source": [
    "# Calculate the daily returns\n",
    "asset_returns = train_data.pct_change()\n",
    "portfolio_returns = asset_returns@weights\n",
    "\n",
    "# Plot the daily returns\n",
    "portfolio_returns.plot().set_ylabel('Daily Returns')\n",
    "plt.title('Portfolio Daily Returns')\n",
    "plt.show()"
   ]
  },
  {
   "cell_type": "code",
   "execution_count": null,
   "id": "06981219",
   "metadata": {},
   "outputs": [],
   "source": [
    "# Calculate the 30-day rolling window of portfolio returns\n",
    "returns_windowed= portfolio_returns.rolling(30)\n",
    "\n",
    "# Compute the annualized volatility series\n",
    "volatility_series = returns_windowed.std()*np.sqrt(252)\n",
    "\n",
    "# Plot the portfolio volatility\n",
    "volatility_series.plot().set_ylabel(\"Annualized Volatility, 30-day Window\")\n",
    "plt.show()"
   ]
  },
  {
   "cell_type": "code",
   "execution_count": null,
   "id": "97c016c4",
   "metadata": {},
   "outputs": [],
   "source": [
    "# Convert daily returns to quarterly average returns\n",
    "quarterly_returns = portfolio_returns.resample('MS').mean().dropna()\n",
    "quarterly_returns.plot().set_ylabel(\"Quarterly Returns\")\n",
    "plt.title('Portfolio Quarterly Returns')\n",
    "plt.show()"
   ]
  },
  {
   "cell_type": "code",
   "execution_count": null,
   "id": "11f5e7f9",
   "metadata": {},
   "outputs": [],
   "source": [
    "# Transform daily portfolio_returns returns into quarterly minimum returns\n",
    "quarterly_min_returns = portfolio_returns.resample('Q').min().dropna()\n",
    "quarterly_min_returns.plot().set_ylabel(\"Quarterly Minimum Returns\")\n",
    "plt.title('Portfolio Quarterly Minimum Returns')\n",
    "plt.show()"
   ]
  },
  {
   "attachments": {},
   "cell_type": "markdown",
   "id": "65364400",
   "metadata": {},
   "source": [
    "## Kmeans - Volatility (Daily)"
   ]
  },
  {
   "cell_type": "code",
   "execution_count": null,
   "id": "07b8acf5",
   "metadata": {},
   "outputs": [],
   "source": [
    "from src.mykmeans import MyKMeans\n",
    "\n",
    "kmeans = MyKMeans()\n",
    "kmeans.set_stock_data()\n",
    "kmeans.volatility_feature_engineering()\n",
    "\n",
    "cluster_range = range(3, 10)\n",
    "kmeans.volatility_clustering_without_pca(range_n_clusters=cluster_range)\n",
    "kmeans.plot_elbow_method()\n",
    "kmeans.plot_metrics_without_pca()\n",
    "kmeans.volatility_clustering_with_pca(range_n_clusters=cluster_range)\n",
    "kmeans.plot_elbow_method()\n",
    "kmeans.plot_metrics_pca()\n",
    "\n",
    "kmeans.plot_metrics()"
   ]
  },
  {
   "attachments": {},
   "cell_type": "markdown",
   "id": "306fca1a",
   "metadata": {},
   "source": [
    "## Kmeans - Quarterly data\n"
   ]
  },
  {
   "cell_type": "code",
   "execution_count": null,
   "id": "6281f9f6",
   "metadata": {},
   "outputs": [],
   "source": [
    "from src.mykmeans import MyKMeans\n",
    "\n",
    "kmeans = MyKMeans()\n",
    "kmeans.set_stock_data()\n",
    "kmeans.gdp_quarterly_feature_engineering()\n",
    "\n",
    "kmeans.gdp_quarterly_clustering_without_pca()\n",
    "kmeans.gdp_quarterly_clustering_pca()\n"
   ]
  },
  {
   "attachments": {},
   "cell_type": "markdown",
   "id": "edc70110",
   "metadata": {},
   "source": [
    "## Kmeans Balance dataset"
   ]
  },
  {
   "cell_type": "code",
   "execution_count": null,
   "id": "d184e406",
   "metadata": {},
   "outputs": [],
   "source": [
    "from src.mykmeans import MyKMeans\n",
    "\n",
    "kmeans = MyKMeans()\n",
    "kmeans.set_stock_data()\n",
    "kmeans.quarterly_feature_engineering(n_clusters=4)"
   ]
  },
  {
   "attachments": {},
   "cell_type": "markdown",
   "id": "a805ee2f",
   "metadata": {},
   "source": [
    "## Kmeans - Economic data "
   ]
  },
  {
   "cell_type": "code",
   "execution_count": null,
   "id": "b2bb06e6",
   "metadata": {},
   "outputs": [],
   "source": [
    "from src.mykmeans import MyKMeans\n",
    "\n",
    "kmeans = MyKMeans()\n",
    "kmeans.set_econ_data()\n",
    "indicators = ['REAINTRATREARAT10Y', 'MEDCPIM158SFRBCLE', 'PSAVERT', 'UNRATE']\n",
    "kmeans.economic_indicator_clustering_without_pca(indictors=indicators)\n",
    "kmeans.economic_indicator_clustering_pca(indictors=indicators)"
   ]
  },
  {
   "cell_type": "markdown",
   "id": "ba0e343a",
   "metadata": {},
   "source": [
    "## DBSCAN"
   ]
  },
  {
   "cell_type": "code",
   "execution_count": null,
   "id": "f0c4278b",
   "metadata": {},
   "outputs": [],
   "source": [
    "dbscan = MyDBSCAN()\n",
    "dbscan.set_stock_data()\n",
    "dbscan.volatility_feature_engineering()\n",
    "dbscan.get_elbow_plot()\n",
    "dbscan.volatility_clustering_without_pca()\n",
    "dbscan.get_nearest_neighbors()\n",
    "dbscan.get_elbow_plot()\n",
    "dbscan.volatility_clustering_with_pca()"
   ]
  },
  {
   "cell_type": "code",
   "execution_count": null,
   "id": "2f23b072",
   "metadata": {},
   "outputs": [],
   "source": [
    "dbscan.clustering_with_quarterly_returns()"
   ]
  },
  {
   "attachments": {},
   "cell_type": "markdown",
   "id": "2c82c941",
   "metadata": {},
   "source": [
    "# ARMIA visualizations"
   ]
  },
  {
   "cell_type": "code",
   "execution_count": null,
   "id": "5f468bef",
   "metadata": {},
   "outputs": [],
   "source": [
    "# Check for stationarity using the Augmented Dickey-Fuller test\n",
    "models = []\n",
    "for col in train_data.columns:\n",
    "    print(col)\n",
    "    adj_closed = train_data[col]\n",
    "    # columns_except_first = stock_data.iloc[:, 1:]\n",
    "    arima = MyARIMA(adj_closed)\n",
    "    models.append((arima,col))\n",
    "    arima.check_stationarity(adj_closed)"
   ]
  },
  {
   "attachments": {},
   "cell_type": "markdown",
   "id": "343910ea-5692-451c-a123-511e34d27a77",
   "metadata": {},
   "source": [
    "Looking at the Rolling Mean and Original Data, We are deciding whether the time series can be captured by a normal time series or \n",
    "it needs to be converted to logarithm"
   ]
  },
  {
   "cell_type": "code",
   "execution_count": null,
   "id": "62602e44-4801-4d71-80fd-bc37edfb28e1",
   "metadata": {},
   "outputs": [],
   "source": [
    "convert_log = {'AAPL' : True,'AMD' : True,'AMZN': False,'F': True,'GOOG' : False,'INTC':False,'JPM':False,'MSFT':False, 'MS': True,\n",
    "               'NVDA':True, 'TSLA':True,'VOO':False}"
   ]
  },
  {
   "attachments": {},
   "cell_type": "markdown",
   "id": "683623b8",
   "metadata": {},
   "source": [
    "The plot depicts increasing mean and standard deviation. Additionally p-value > 0.05. Hence, the timeseries is not stationary.\n",
    "\n",
    "Additionally, the test statistics exceeds the critical values. As a result, the data is nonlinear."
   ]
  },
  {
   "attachments": {},
   "cell_type": "markdown",
   "id": "daa534d6",
   "metadata": {},
   "source": [
    "### Make the time-series stationary"
   ]
  },
  {
   "attachments": {},
   "cell_type": "markdown",
   "id": "bc81ed40",
   "metadata": {},
   "source": [
    "### ACF and PACF plots "
   ]
  },
  {
   "cell_type": "code",
   "execution_count": null,
   "id": "abc4ac52",
   "metadata": {},
   "outputs": [],
   "source": [
    "shift = 1\n",
    "for arima,col in models:\n",
    "    print(col)\n",
    "    data = arima.time_series_data\n",
    "    if convert_log[col]:\n",
    "        data = arima.log_data(data)\n",
    "    diff_data = arima.difference_data(data,shift)[1:]\n",
    "    arima.check_stationarity(diff_data)\n",
    "    arima.acf_pacf_plots(diff_data)"
   ]
  },
  {
   "attachments": {},
   "cell_type": "markdown",
   "id": "02bfc74c-c428-40da-a701-e87d87b8e4b4",
   "metadata": {},
   "source": [
    "All p-values are well below the threshold, so we can consider the difference time series to be stationary. So the degree d of ARIMA(p,d,q) for all stocks is 1."
   ]
  },
  {
   "attachments": {},
   "cell_type": "markdown",
   "id": "c66a6f07-826f-4488-a469-9f1d5c2af317",
   "metadata": {},
   "source": [
    "For p and q values, we will use the auto arima function to get the parameters for the ARIMA model"
   ]
  },
  {
   "cell_type": "code",
   "execution_count": null,
   "id": "278b51e0-58b7-4ab5-a198-1ccbabfdf0ad",
   "metadata": {},
   "outputs": [],
   "source": [
    "forecasted_data = test_data.copy()\n",
    "N = len(forecasted_data)\n",
    "for arima,col in models:\n",
    "    print(col)\n",
    "    data = arima.time_series_data\n",
    "    if convert_log[col]:\n",
    "        data = arima.log_data(data)\n",
    "    arima.fit_arima_parameters(data)\n",
    "    if convert_log[col]:\n",
    "        forecasted_data[col] = np.exp(arima.forecast(data,N))\n",
    "    else:\n",
    "        forecasted_data[col] = arima.forecast(data,N)\n"
   ]
  },
  {
   "cell_type": "code",
   "execution_count": null,
   "id": "f6f6b852-a8e3-488f-8b32-8a07e6e44c66",
   "metadata": {},
   "outputs": [],
   "source": [
    "mpt = MPTOptimizer()\n",
    "l = list(test_data.columns)"
   ]
  },
  {
   "cell_type": "code",
   "execution_count": null,
   "id": "6faf48c2-a61b-4afc-a5a8-9606e59c2696",
   "metadata": {},
   "outputs": [],
   "source": [
    "arima_allocs = mpt.optimize_portfolio(forecasted_data)\n",
    "print(\"Forecasted Data Allocation\")\n",
    "for val, ticker in zip(arima_allocs, l):\n",
    "    print(ticker + \": \" + str(round(val,3)))"
   ]
  },
  {
   "cell_type": "code",
   "execution_count": null,
   "id": "8d438349-f1eb-481f-b290-e97562980c0a",
   "metadata": {},
   "outputs": [],
   "source": [
    "mpt_allocs = mpt.optimize_portfolio(train_data)\n",
    "print(\"MyOptimizer's Data Allocation\")\n",
    "for val, ticker in zip(mpt_allocs, l):\n",
    "    print(ticker + \": \" + str(round(val,3)))"
   ]
  },
  {
   "cell_type": "code",
   "execution_count": null,
   "id": "4b56ffae-f694-4b5f-adc1-9c9aec1f6092",
   "metadata": {},
   "outputs": [],
   "source": [
    "mean_arima, std_arima, cr_arima, sr_arima = utils.sharpe_ratio_metrics(test_data,arima_allocs)\n",
    "treynor_arima,beta_arima,alpha_arima = utils.treynor_ratio_metrics(test_data,arima_allocs,index_data)\n",
    "print(\"ARIMA Metrics\")\n",
    "print(\"Mean: \" + str(mean_arima))\n",
    "print(\"Std Dev: \" + str(std_arima))\n",
    "print(\"Calculated Risk: \" + str(cr_arima))\n",
    "print(\"Sharpe Ratio: \" + str(sr_arima))\n",
    "print(\"Treynor Ratio: \" + str(treynor_arima))\n",
    "print(\"Beta: \" + str(beta_arima))\n",
    "print(\"Alpha: \" + str(alpha_arima))"
   ]
  },
  {
   "cell_type": "code",
   "execution_count": null,
   "id": "c7ddd109-bf5e-468c-9fdf-4243dbd8c1a7",
   "metadata": {},
   "outputs": [],
   "source": [
    "mean_mpt, std_mpt,cr_mpt, sr_mpt = utils.sharpe_ratio_metrics(test_data,mpt_allocs)\n",
    "treynor_mpt,beta_mpt,alpha_mpt = utils.treynor_ratio_metrics(test_data,mpt_allocs,index_data)\n",
    "print(\"MyOptimizer Metrics\")\n",
    "print(\"Mean: \" + str(mean_mpt))\n",
    "print(\"Std Dev: \" + str(std_mpt))\n",
    "print(\"Calculated Risk: \" + str(cr_mpt))\n",
    "print(\"Sharpe Ratio: \" + str(sr_mpt))\n",
    "print(\"Treynor Ratio: \" + str(treynor_mpt))\n",
    "print(\"Beta: \" + str(beta_mpt))\n",
    "print(\"Alpha: \" + str(alpha_mpt))\n",
    "\n"
   ]
  },
  {
   "cell_type": "code",
   "execution_count": null,
   "id": "60309861-4529-46db-98cd-adcbe61cff66",
   "metadata": {},
   "outputs": [],
   "source": [
    "kmeans_allocs = [0,0,0,0,0,0,1.0/3,0,0,1.0/3,0,1.0/3]"
   ]
  },
  {
   "cell_type": "code",
   "execution_count": null,
   "id": "8912805c-39bf-464e-87ff-39e3179452ef",
   "metadata": {},
   "outputs": [],
   "source": [
    "mean_kmeans, std_kmeans,cr_kmeans, sr_kmeans = utils.sharpe_ratio_metrics(test_data,kmeans_allocs)\n",
    "treynor_kmeans,beta_kmeans,alpha_kmeans = utils.treynor_ratio_metrics(test_data,kmeans_allocs,index_data)\n",
    "\n",
    "print(\"KMeans Metrics\")\n",
    "print(\"Mean: \" + str(mean_kmeans))\n",
    "print(\"Std Dev: \" + str(std_kmeans))\n",
    "print(\"Calculated Risk: \" + str(cr_kmeans))\n",
    "print(\"Sharpe Ratio: \" + str(sr_kmeans))\n",
    "print(\"Treynor Ratio: \" + str(treynor_kmeans))\n",
    "print(\"Beta: \" + str(beta_kmeans))\n",
    "print(\"Alpha: \" + str(alpha_kmeans))\n"
   ]
  },
  {
   "cell_type": "code",
   "execution_count": null,
   "id": "47fc67e8-50f1-49da-99e4-e6368c37327e",
   "metadata": {},
   "outputs": [],
   "source": [
    "kmeans_pca_allocs = [0,0,0,0,0,0,1.0/4,0,0,1.0/4,1.0/4,1.0/4]"
   ]
  },
  {
   "cell_type": "code",
   "execution_count": null,
   "id": "7c67ab1f-ca11-4070-94e3-b22172cae88d",
   "metadata": {},
   "outputs": [],
   "source": [
    "mean_kmeans_pca, std_kmeans_pca,cr_kmeans_pca, sr_kmeans_pca = utils.sharpe_ratio_metrics(test_data,kmeans_pca_allocs)\n",
    "treynor_kmeans_pca,beta_kmeans_pca,alpha_kmeans_pca = utils.treynor_ratio_metrics(test_data,kmeans_pca_allocs,index_data)\n",
    "\n",
    "\n",
    "print(\"KMeans w PCA Metrics\")\n",
    "print(\"Mean: \" + str(mean_kmeans_pca))\n",
    "print(\"Std Dev: \" + str(std_kmeans_pca))\n",
    "print(\"Calculated Risk: \" + str(cr_kmeans_pca))\n",
    "print(\"Sharpe Ratio: \" + str(sr_kmeans_pca))\n",
    "print(\"Treynor Ratio: \" + str(treynor_kmeans_pca))\n",
    "print(\"Beta: \" + str(beta_kmeans_pca))\n",
    "print(\"Alpha: \" + str(alpha_kmeans_pca))"
   ]
  }
 ],
 "metadata": {
  "kernelspec": {
   "display_name": "Python 3 (ipykernel)",
   "language": "python",
   "name": "python3"
  },
  "language_info": {
   "codemirror_mode": {
    "name": "ipython",
    "version": 3
   },
   "file_extension": ".py",
   "mimetype": "text/x-python",
   "name": "python",
   "nbconvert_exporter": "python",
   "pygments_lexer": "ipython3",
   "version": "3.11.5"
  }
 },
 "nbformat": 4,
 "nbformat_minor": 5
}
