{
 "cells": [
  {
   "attachments": {},
   "cell_type": "markdown",
   "id": "a8297e16-73a5-405f-9bd8-c767e71e914f",
   "metadata": {},
   "source": [
    "# Packages/ Imports"
   ]
  },
  {
   "cell_type": "code",
   "execution_count": null,
   "id": "9f950d76",
   "metadata": {},
   "outputs": [],
   "source": [
    "'''\n",
    "Update conda env using the following line in the /environment directory\n",
    "    ` conda env update --file ml_portfolio_opt_env_<OS>.yml --prune `\n",
    "'''"
   ]
  },
  {
   "cell_type": "code",
   "execution_count": null,
   "id": "1bda331f-1603-4798-98a0-99bd7e0618b0",
   "metadata": {},
   "outputs": [],
   "source": [
    "import sys\n",
    "import os\n",
    "import warnings\n",
    "warnings.simplefilter(action='ignore', category=FutureWarning)\n",
    "\n",
    "import math\n",
    "import numpy as np\n",
    "import pandas as pd\n",
    "import seaborn as sns\n",
    "import matplotlib.pyplot as plt\n",
    "import sklearn\n",
    "import yfinance as yf\n",
    "import statsmodels\n",
    "import pyfolio as pf\n",
    "\n",
    "# Import libraries for ARIMA\n",
    "from statsmodels.tsa.stattools import adfuller\n",
    "from statsmodels.tsa.seasonal import seasonal_decompose\n",
    "from statsmodels.tsa.arima.model import ARIMA\n",
    "from pmdarima.arima import auto_arima\n",
    "from sklearn.metrics import mean_squared_error, mean_absolute_error\n",
    "from sklearn.model_selection import train_test_split\n",
    "from sklearn.metrics import classification_report\n",
    "\n",
    "from src.myarima import MyARIMA\n",
    "from src.init_dataset import InitDataset\n",
    "from src.mykmeans import MyKMeans\n",
    "\n",
    "print(\"Finished importing utils!\")"
   ]
  },
  {
   "cell_type": "markdown",
   "id": "3349cc74",
   "metadata": {},
   "source": [
    "# Data Management"
   ]
  },
  {
   "cell_type": "code",
   "execution_count": null,
   "id": "4bf63c3b-d337-4811-a29f-1995ebf46e82",
   "metadata": {},
   "outputs": [],
   "source": [
    "#Since dataset has been created, init is set to false\n",
    "InitDataset.create_econ_data(init=False)\n",
    "InitDataset.create_merged_stock_data(init=False)\n",
    "InitDataset.create_adj_closed_price(init=False)"
   ]
  },
  {
   "cell_type": "markdown",
   "id": "d0c5bbb0",
   "metadata": {},
   "source": [
    "## Data Exploration"
   ]
  },
  {
   "cell_type": "code",
   "execution_count": null,
   "id": "9deab0bb",
   "metadata": {},
   "outputs": [],
   "source": [
    "# Load the dataset for the first ticker\n",
    "dateparse = lambda dates: pd.to_datetime(dates, format='%Y-%m-%d')\n",
    "stock_data = pd.read_csv(r'dataset/stock_data/AAPL_data.csv', parse_dates=['Date'], index_col='Date', date_parser=dateparse)\n",
    "stock_data.head()"
   ]
  },
  {
   "cell_type": "code",
   "execution_count": null,
   "id": "70f211f4",
   "metadata": {},
   "outputs": [],
   "source": [
    "# Check the shape of the dataset\n",
    "print(stock_data.shape)\n",
    "\n",
    "# Check the start and end date of the dataset\n",
    "print(stock_data.index.min())\n",
    "print(stock_data.index.max())\n",
    "\n",
    "# Duration of stock data\n",
    "duration = stock_data.index.max() - stock_data.index.min()\n",
    "print(duration)"
   ]
  },
  {
   "cell_type": "code",
   "execution_count": null,
   "id": "32d825bf",
   "metadata": {},
   "outputs": [],
   "source": [
    "# Data Cleaning and Sanity Check\n",
    "# Check for missing values\n",
    "print(stock_data.isnull().sum(), '\\n')\n",
    "# Check for duplicate values\n",
    "print(stock_data.duplicated().sum())\n",
    "# Describe the dataset\n",
    "print(stock_data.describe())"
   ]
  },
  {
   "cell_type": "markdown",
   "id": "ce9a9047",
   "metadata": {},
   "source": [
    "# Initial Data Visualization"
   ]
  },
  {
   "cell_type": "code",
   "execution_count": null,
   "id": "4ebe9190",
   "metadata": {},
   "outputs": [],
   "source": [
    "# Plot the adjusted close price\n",
    "plt.figure(figsize=(10,6))\n",
    "plt.grid(True)\n",
    "plt.title('Adjusted Close Price of AAPL')\n",
    "plt.xlabel('Date')\n",
    "plt.ylabel('Adjusted Close Price')\n",
    "plt.plot(stock_data['Adj Close'])\n",
    "plt.show()"
   ]
  },
  {
   "cell_type": "code",
   "execution_count": null,
   "id": "c7a4e33c",
   "metadata": {},
   "outputs": [],
   "source": [
    "# KDE plot of the adjusted close price\n",
    "plt.figure(figsize=(10,6))\n",
    "sns.kdeplot(stock_data['Adj Close'], shade=True)\n",
    "plt.title('KDE plot of Adjusted Close Price')\n",
    "plt.xlabel('Adjusted Close Price')\n",
    "plt.ylabel('Density')\n",
    "plt.show()"
   ]
  },
  {
   "cell_type": "code",
   "execution_count": null,
   "id": "1d2ce443",
   "metadata": {},
   "outputs": [],
   "source": [
    "# Load the dataset\n",
    "dateparse = lambda dates: pd.to_datetime(dates, format='%Y-%m-%d')\n",
    "portfolio = pd.read_csv(r'dataset/stock_data/combined_stock_adj_closed.csv', parse_dates=['Date'], index_col='Date', date_parser=dateparse)\n",
    "portfolio_returns = portfolio.pct_change()\n",
    "covariance = portfolio_returns.cov()*252\n",
    "# Heatmap of the covariance matrix\n",
    "plt.figure(figsize=(10,6))\n",
    "sns.heatmap(covariance, annot=True, cmap='coolwarm')\n",
    "plt.title('Covariance Matrix')\n",
    "plt.show()"
   ]
  },
  {
   "cell_type": "code",
   "execution_count": null,
   "id": "e8f14e7d",
   "metadata": {},
   "outputs": [],
   "source": [
    "# Allocate equal weights to all stocks\n",
    "\n",
    "weights = [0.25, 0.25, 0.25, 0.25, 0.25, 0.25, 0.25, 0.25, 0.25, 0.25, 0.25, 0.25]\n",
    "portfolio_variance = np.transpose(weights) @ covariance @ weights\n",
    "print(f'Portfolio Variance: {portfolio_variance}')"
   ]
  },
  {
   "cell_type": "code",
   "execution_count": null,
   "id": "8d91f9b5",
   "metadata": {},
   "outputs": [],
   "source": [
    "# Calculate the portfolio volatility\n",
    "\n",
    "windowed = portfolio_returns.rolling(30)\n",
    "volatility = windowed.std() * np.sqrt(252)\n",
    "volatility.plot(figsize=(10,6))\n",
    "plt.title('Portfolio Volatility')\n",
    "plt.xlabel('Date')\n",
    "plt.ylabel('Volatility')\n",
    "plt.show()"
   ]
  },
  {
   "cell_type": "code",
   "execution_count": null,
   "id": "a68b57a4",
   "metadata": {},
   "outputs": [],
   "source": [
    "# Plot the adjusted close price\n",
    "portfolio.plot(title='Adjusted Close Price')\n",
    "plt.show()"
   ]
  },
  {
   "cell_type": "code",
   "execution_count": null,
   "id": "b6b93744",
   "metadata": {},
   "outputs": [],
   "source": [
    "# Calculate the daily returns\n",
    "asset_returns = portfolio.pct_change()\n",
    "portfolio_returns = asset_returns@weights\n",
    "\n",
    "# Plot the daily returns\n",
    "portfolio_returns.plot().set_ylabel('Daily Returns')\n",
    "plt.title('Portfolio Daily Returns')\n",
    "plt.show()"
   ]
  },
  {
   "cell_type": "code",
   "execution_count": null,
   "id": "06981219",
   "metadata": {},
   "outputs": [],
   "source": [
    "# Calculate the 30-day rolling window of portfolio returns\n",
    "returns_windowed= portfolio_returns.rolling(30)\n",
    "\n",
    "# Compute the annualized volatility series\n",
    "volatility_series = returns_windowed.std()*np.sqrt(252)\n",
    "\n",
    "# Plot the portfolio volatility\n",
    "volatility_series.plot().set_ylabel(\"Annualized Volatility, 30-day Window\")\n",
    "plt.show()"
   ]
  },
  {
   "cell_type": "code",
   "execution_count": null,
   "id": "97c016c4",
   "metadata": {},
   "outputs": [],
   "source": [
    "# Convert daily returns to quarterly average returns\n",
    "quarterly_returns = portfolio_returns.resample('MS').mean().dropna()\n",
    "quarterly_returns.plot().set_ylabel(\"Quarterly Returns\")\n",
    "plt.title('Portfolio Quarterly Returns')\n",
    "plt.show()"
   ]
  },
  {
   "cell_type": "code",
   "execution_count": null,
   "id": "11f5e7f9",
   "metadata": {},
   "outputs": [],
   "source": [
    "# Transform daily portfolio_returns returns into quarterly minimum returns\n",
    "quarterly_min_returns = portfolio_returns.resample('Q').min().dropna()\n",
    "quarterly_min_returns.plot().set_ylabel(\"Quarterly Minimum Returns\")\n",
    "plt.title('Portfolio Quarterly Minimum Returns')\n",
    "plt.show()"
   ]
  },
  {
   "cell_type": "markdown",
   "id": "65364400",
   "metadata": {},
   "source": [
    "## Kmeans - Volatility (Daily)"
   ]
  },
  {
   "cell_type": "code",
   "execution_count": null,
   "id": "07b8acf5",
   "metadata": {},
   "outputs": [],
   "source": [
    "from src.mykmeans import MyKMeans\n",
    "\n",
    "kmeans = MyKMeans()\n",
    "kmeans.set_stock_data()\n",
    "kmeans.volatility_feature_engineering()\n",
    "\n",
    "cluster_range = range(3, 10)\n",
    "kmeans.volatility_clustering_without_pca(range_n_clusters=cluster_range)\n",
    "kmeans.plot_elbow_method()\n",
    "kmeans.plot_metrics_without_pca()\n",
    "kmeans.volatility_clustering_with_pca(range_n_clusters=cluster_range)\n",
    "kmeans.plot_elbow_method()\n",
    "kmeans.plot_metrics_pca()\n",
    "\n",
    "kmeans.plot_metrics()"
   ]
  },
  {
   "cell_type": "markdown",
   "id": "306fca1a",
   "metadata": {},
   "source": [
    "## Kmeans - Quarterly data\n"
   ]
  },
  {
   "cell_type": "code",
   "execution_count": null,
   "id": "6281f9f6",
   "metadata": {},
   "outputs": [],
   "source": [
    "from src.mykmeans import MyKMeans\n",
    "\n",
    "kmeans = MyKMeans()\n",
    "kmeans.set_stock_data()\n",
    "kmeans.gdp_quarterly_feature_engineering()\n",
    "\n",
    "kmeans.gdp_quarterly_clustering_without_pca()\n",
    "kmeans.gdp_quarterly_clustering_pca()\n"
   ]
  },
  {
   "cell_type": "markdown",
   "id": "a805ee2f",
   "metadata": {},
   "source": [
    "## Kmeans - Economic data "
   ]
  },
  {
   "cell_type": "code",
   "execution_count": null,
   "id": "b2bb06e6",
   "metadata": {},
   "outputs": [],
   "source": [
    "from src.mykmeans import MyKMeans\n",
    "\n",
    "kmeans = MyKMeans()\n",
    "kmeans.set_econ_data()\n",
    "indicators = ['REAINTRATREARAT10Y', 'MEDCPIM158SFRBCLE', 'PSAVERT', 'UNRATE']\n",
    "kmeans.economic_indicator_clustering_without_pca(indictors=indicators)\n",
    "kmeans.economic_indicator_clustering_pca(indictors=indicators)"
   ]
  },
  {
   "cell_type": "markdown",
   "id": "2c82c941",
   "metadata": {},
   "source": [
    "# ARMIA visualizations"
   ]
  },
  {
   "cell_type": "code",
   "execution_count": null,
   "id": "5f468bef",
   "metadata": {},
   "outputs": [],
   "source": [
    "# Check for stationarity using the Augmented Dickey-Fuller test\n",
    "adj_closed = stock_data['Adj Close']\n",
    "# columns_except_first = stock_data.iloc[:, 1:]\n",
    "arima = MyARIMA(adj_closed)\n",
    "arima.check_stationarity()"
   ]
  },
  {
   "cell_type": "markdown",
   "id": "683623b8",
   "metadata": {},
   "source": [
    "The plot depicts increasing mean and standard deviation. Additionally p-value > 0.05. Hence, the timeseries is not stationary.\n",
    "\n",
    "Additionally, the test statistics exceeds the critical values. As a result, the data is nonlinear."
   ]
  },
  {
   "cell_type": "code",
   "execution_count": null,
   "id": "37c17607",
   "metadata": {},
   "outputs": [],
   "source": [
    "# Decompose the time series\n",
    "result = seasonal_decompose(adj_closed, model='multiplicative', period=30)\n",
    "plt.figure(figsize=(10,6))\n",
    "result.plot()\n",
    "plt.show()"
   ]
  },
  {
   "cell_type": "markdown",
   "id": "daa534d6",
   "metadata": {},
   "source": [
    "### Make the time-series stationary"
   ]
  },
  {
   "cell_type": "code",
   "execution_count": null,
   "id": "cf3f9ec0",
   "metadata": {},
   "outputs": [],
   "source": [
    "# Taking the log of the time series\n",
    "log_data = arima.log_data()"
   ]
  },
  {
   "cell_type": "code",
   "execution_count": null,
   "id": "8103a9ef",
   "metadata": {},
   "outputs": [],
   "source": [
    "# Differencing the log of the time series\n",
    "diff_data = arima.difference_data(log_data)"
   ]
  },
  {
   "cell_type": "markdown",
   "id": "bc81ed40",
   "metadata": {},
   "source": [
    "### ACF and PACF plots "
   ]
  },
  {
   "cell_type": "code",
   "execution_count": null,
   "id": "abc4ac52",
   "metadata": {},
   "outputs": [],
   "source": [
    "arima.acf_pacf_plots(diff_data)"
   ]
  }
 ],
 "metadata": {
  "kernelspec": {
   "display_name": "Python 3 (ipykernel)",
   "language": "python",
   "name": "python3"
  },
  "language_info": {
   "codemirror_mode": {
    "name": "ipython",
    "version": 3
   },
   "file_extension": ".py",
   "mimetype": "text/x-python",
   "name": "python",
   "nbconvert_exporter": "python",
   "pygments_lexer": "ipython3",
   "version": "3.11.7"
  }
 },
 "nbformat": 4,
 "nbformat_minor": 5
}
