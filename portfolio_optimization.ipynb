{
 "cells": [
  {
   "attachments": {},
   "cell_type": "markdown",
   "id": "a8297e16-73a5-405f-9bd8-c767e71e914f",
   "metadata": {},
   "source": [
    "# Packages/ Imports"
   ]
  },
  {
   "cell_type": "code",
   "execution_count": null,
   "id": "9f950d76",
   "metadata": {},
   "outputs": [],
   "source": [
    "'''\n",
    "Update conda env using the following line in the /environment directory\n",
    "    ` conda env update --file ml_portfolio_opt_env_<OS>.yml --prune `\n",
    "'''"
   ]
  },
  {
   "cell_type": "code",
   "execution_count": 1,
   "id": "1bda331f-1603-4798-98a0-99bd7e0618b0",
   "metadata": {},
   "outputs": [
    {
     "name": "stdout",
     "output_type": "stream",
     "text": [
      "Finished importing utils!\n"
     ]
    }
   ],
   "source": [
    "import sys\n",
    "import os\n",
    "import warnings\n",
    "warnings.filterwarnings(action='ignore')\n",
    "\n",
    "import math\n",
    "import numpy as np\n",
    "import pandas as pd\n",
    "import seaborn as sns\n",
    "import matplotlib.pyplot as plt\n",
    "import sklearn\n",
    "import yfinance as yf\n",
    "import statsmodels\n",
    "import pyfolio as pf\n",
    "\n",
    "# Import libraries for ARIMA\n",
    "from statsmodels.tsa.stattools import adfuller\n",
    "from statsmodels.tsa.seasonal import seasonal_decompose\n",
    "from statsmodels.tsa.arima.model import ARIMA\n",
    "from pmdarima.arima import auto_arima\n",
    "from sklearn.metrics import mean_squared_error, mean_absolute_error\n",
    "from sklearn.model_selection import train_test_split\n",
    "from sklearn.metrics import classification_report\n",
    "\n",
    "from src.myarima import MyARIMA\n",
    "from src.init_dataset import InitDataset\n",
    "from src.mykmeans import MyKMeans\n",
    "import src.utils as utils\n",
    "from src.mptoptimizer import MPTOptimizer\n",
    "\n",
    "print(\"Finished importing utils!\")"
   ]
  },
  {
   "cell_type": "markdown",
   "id": "3349cc74",
   "metadata": {},
   "source": [
    "# Data Management"
   ]
  },
  {
   "cell_type": "code",
   "execution_count": null,
   "id": "4bf63c3b-d337-4811-a29f-1995ebf46e82",
   "metadata": {},
   "outputs": [],
   "source": [
    "#Since dataset has been created, init is set to false\n",
    "InitDataset.create_econ_data(init=False)\n",
    "InitDataset.create_merged_stock_data(init=False)\n",
    "InitDataset.create_adj_closed_price(init=False)"
   ]
  },
  {
   "cell_type": "markdown",
   "id": "d0c5bbb0",
   "metadata": {},
   "source": [
    "## Data Exploration"
   ]
  },
  {
   "cell_type": "code",
   "execution_count": null,
   "id": "9deab0bb",
   "metadata": {},
   "outputs": [],
   "source": [
    "# Load the dataset for the first ticker\n",
    "dateparse = lambda dates: pd.to_datetime(dates, format='%Y-%m-%d')\n",
    "stock_data = pd.read_csv(r'dataset/stock_data/AAPL_data.csv', parse_dates=['Date'], index_col='Date', date_parser=dateparse)\n",
    "stock_data.head()"
   ]
  },
  {
   "cell_type": "code",
   "execution_count": null,
   "id": "70f211f4",
   "metadata": {},
   "outputs": [],
   "source": [
    "# Check the shape of the dataset\n",
    "print(stock_data.shape)\n",
    "\n",
    "# Check the start and end date of the dataset\n",
    "print(stock_data.index.min())\n",
    "print(stock_data.index.max())\n",
    "\n",
    "# Duration of stock data\n",
    "duration = stock_data.index.max() - stock_data.index.min()\n",
    "print(duration)"
   ]
  },
  {
   "cell_type": "code",
   "execution_count": null,
   "id": "32d825bf",
   "metadata": {},
   "outputs": [],
   "source": [
    "# Data Cleaning and Sanity Check\n",
    "# Check for missing values\n",
    "print(stock_data.isnull().sum(), '\\n')\n",
    "# Check for duplicate values\n",
    "print(stock_data.duplicated().sum())\n",
    "# Describe the dataset\n",
    "print(stock_data.describe())"
   ]
  },
  {
   "cell_type": "markdown",
   "id": "ce9a9047",
   "metadata": {},
   "source": [
    "# Initial Data Visualization"
   ]
  },
  {
   "cell_type": "code",
   "execution_count": null,
   "id": "4ebe9190",
   "metadata": {},
   "outputs": [],
   "source": [
    "# Plot the adjusted close price\n",
    "plt.figure(figsize=(10,6))\n",
    "plt.grid(True)\n",
    "plt.title('Adjusted Close Price of AAPL')\n",
    "plt.xlabel('Date')\n",
    "plt.ylabel('Adjusted Close Price')\n",
    "plt.plot(stock_data['Adj Close'])\n",
    "plt.show()"
   ]
  },
  {
   "cell_type": "code",
   "execution_count": null,
   "id": "c7a4e33c",
   "metadata": {},
   "outputs": [],
   "source": [
    "# KDE plot of the adjusted close price\n",
    "plt.figure(figsize=(10,6))\n",
    "sns.kdeplot(stock_data['Adj Close'], shade=True)\n",
    "plt.title('KDE plot of Adjusted Close Price')\n",
    "plt.xlabel('Adjusted Close Price')\n",
    "plt.ylabel('Density')\n",
    "plt.show()"
   ]
  },
  {
   "cell_type": "markdown",
   "id": "28792016",
   "metadata": {},
   "source": [
    "# Models"
   ]
  },
  {
   "cell_type": "code",
   "execution_count": 2,
   "id": "1d2ce443",
   "metadata": {},
   "outputs": [],
   "source": [
    "# Load the dataset\n",
    "test_data, train_data, index_data = InitDataset.get_test_train_data()"
   ]
  },
  {
   "cell_type": "code",
   "execution_count": null,
   "id": "73808baf",
   "metadata": {},
   "outputs": [],
   "source": [
    "portfolio_returns = train_data.pct_change()\n",
    "covariance = portfolio_returns.cov()*252\n",
    "# Heatmap of the covariance matrix\n",
    "plt.figure(figsize=(10,6))\n",
    "sns.heatmap(covariance, annot=True, cmap='coolwarm')\n",
    "plt.title('Covariance Matrix')\n",
    "plt.show()"
   ]
  },
  {
   "cell_type": "code",
   "execution_count": null,
   "id": "e8f14e7d",
   "metadata": {},
   "outputs": [],
   "source": [
    "# Allocate equal weights to all stocks\n",
    "\n",
    "weights = [0.25, 0.25, 0.25, 0.25, 0.25, 0.25, 0.25, 0.25, 0.25, 0.25, 0.25, 0.25]\n",
    "portfolio_variance = np.transpose(weights) @ covariance @ weights\n",
    "print(f'Portfolio Variance: {portfolio_variance}')"
   ]
  },
  {
   "cell_type": "code",
   "execution_count": null,
   "id": "8d91f9b5",
   "metadata": {},
   "outputs": [],
   "source": [
    "# Calculate the portfolio volatility\n",
    "\n",
    "windowed = portfolio_returns.rolling(30)\n",
    "volatility = windowed.std() * np.sqrt(252)\n",
    "volatility.plot(figsize=(10,6))\n",
    "plt.title('Portfolio Volatility')\n",
    "plt.xlabel('Date')\n",
    "plt.ylabel('Volatility')\n",
    "plt.show()"
   ]
  },
  {
   "cell_type": "code",
   "execution_count": null,
   "id": "a68b57a4",
   "metadata": {},
   "outputs": [],
   "source": [
    "# Plot the adjusted close price\n",
    "train_data.plot(title='Adjusted Close Price')\n",
    "plt.show()"
   ]
  },
  {
   "cell_type": "code",
   "execution_count": null,
   "id": "b6b93744",
   "metadata": {},
   "outputs": [],
   "source": [
    "# Calculate the daily returns\n",
    "asset_returns = train_data.pct_change()\n",
    "portfolio_returns = asset_returns@weights\n",
    "\n",
    "# Plot the daily returns\n",
    "portfolio_returns.plot().set_ylabel('Daily Returns')\n",
    "plt.title('Portfolio Daily Returns')\n",
    "plt.show()"
   ]
  },
  {
   "cell_type": "code",
   "execution_count": null,
   "id": "06981219",
   "metadata": {},
   "outputs": [],
   "source": [
    "# Calculate the 30-day rolling window of portfolio returns\n",
    "returns_windowed= portfolio_returns.rolling(30)\n",
    "\n",
    "# Compute the annualized volatility series\n",
    "volatility_series = returns_windowed.std()*np.sqrt(252)\n",
    "\n",
    "# Plot the portfolio volatility\n",
    "volatility_series.plot().set_ylabel(\"Annualized Volatility, 30-day Window\")\n",
    "plt.show()"
   ]
  },
  {
   "cell_type": "code",
   "execution_count": null,
   "id": "97c016c4",
   "metadata": {},
   "outputs": [],
   "source": [
    "# Convert daily returns to quarterly average returns\n",
    "quarterly_returns = portfolio_returns.resample('MS').mean().dropna()\n",
    "quarterly_returns.plot().set_ylabel(\"Quarterly Returns\")\n",
    "plt.title('Portfolio Quarterly Returns')\n",
    "plt.show()"
   ]
  },
  {
   "cell_type": "code",
   "execution_count": null,
   "id": "11f5e7f9",
   "metadata": {},
   "outputs": [],
   "source": [
    "# Transform daily portfolio_returns returns into quarterly minimum returns\n",
    "quarterly_min_returns = portfolio_returns.resample('Q').min().dropna()\n",
    "quarterly_min_returns.plot().set_ylabel(\"Quarterly Minimum Returns\")\n",
    "plt.title('Portfolio Quarterly Minimum Returns')\n",
    "plt.show()"
   ]
  },
  {
   "cell_type": "markdown",
   "id": "65364400",
   "metadata": {},
   "source": [
    "## Kmeans - Volatility (Daily)"
   ]
  },
  {
   "cell_type": "code",
   "execution_count": null,
   "id": "07b8acf5",
   "metadata": {},
   "outputs": [],
   "source": [
    "from src.mykmeans import MyKMeans\n",
    "\n",
    "kmeans = MyKMeans()\n",
    "kmeans.set_stock_data()\n",
    "kmeans.volatility_feature_engineering()\n",
    "\n",
    "cluster_range = range(3, 10)\n",
    "kmeans.volatility_clustering_without_pca(range_n_clusters=cluster_range)\n",
    "kmeans.plot_elbow_method()\n",
    "kmeans.plot_metrics_without_pca()\n",
    "kmeans.volatility_clustering_with_pca(range_n_clusters=cluster_range)\n",
    "kmeans.plot_elbow_method()\n",
    "kmeans.plot_metrics_pca()\n",
    "\n",
    "kmeans.plot_metrics()"
   ]
  },
  {
   "cell_type": "markdown",
   "id": "306fca1a",
   "metadata": {},
   "source": [
    "## Kmeans - Quarterly data\n"
   ]
  },
  {
   "cell_type": "code",
   "execution_count": null,
   "id": "6281f9f6",
   "metadata": {},
   "outputs": [],
   "source": [
    "from src.mykmeans import MyKMeans\n",
    "\n",
    "kmeans = MyKMeans()\n",
    "kmeans.set_stock_data()\n",
    "kmeans.gdp_quarterly_feature_engineering()\n",
    "\n",
    "kmeans.gdp_quarterly_clustering_without_pca()\n",
    "kmeans.gdp_quarterly_clustering_pca()\n"
   ]
  },
  {
   "cell_type": "markdown",
   "id": "a805ee2f",
   "metadata": {},
   "source": [
    "## Kmeans - Economic data "
   ]
  },
  {
   "cell_type": "code",
   "execution_count": null,
   "id": "b2bb06e6",
   "metadata": {},
   "outputs": [],
   "source": [
    "from src.mykmeans import MyKMeans\n",
    "\n",
    "kmeans = MyKMeans()\n",
    "kmeans.set_econ_data()\n",
    "indicators = ['REAINTRATREARAT10Y', 'MEDCPIM158SFRBCLE', 'PSAVERT', 'UNRATE']\n",
    "kmeans.economic_indicator_clustering_without_pca(indictors=indicators)\n",
    "kmeans.economic_indicator_clustering_pca(indictors=indicators)"
   ]
  },
  {
   "cell_type": "markdown",
   "id": "2c82c941",
   "metadata": {},
   "source": [
    "# ARMIA visualizations"
   ]
  },
  {
   "cell_type": "code",
   "execution_count": null,
   "id": "5f468bef",
   "metadata": {},
   "outputs": [],
   "source": [
    "# Check for stationarity using the Augmented Dickey-Fuller test\n",
    "models = []\n",
    "for col in train_data.columns:\n",
    "    print(col)\n",
    "    adj_closed = train_data[col]\n",
    "    # columns_except_first = stock_data.iloc[:, 1:]\n",
    "    arima = MyARIMA(adj_closed)\n",
    "    models.append((arima,col))\n",
    "    arima.check_stationarity(adj_closed)"
   ]
  },
  {
   "cell_type": "markdown",
   "id": "343910ea-5692-451c-a123-511e34d27a77",
   "metadata": {},
   "source": [
    "Looking at the Rolling Mean and Original Data, We are deciding whether the time series can be captured by a normal time series or \n",
    "it needs to be converted to logarithm"
   ]
  },
  {
   "cell_type": "code",
   "execution_count": 8,
   "id": "62602e44-4801-4d71-80fd-bc37edfb28e1",
   "metadata": {},
   "outputs": [],
   "source": [
    "convert_log = {'AAPL' : True,'AMD' : True,'AMZN': False,'F': True,'GOOG' : False,'INTC':False,'JPM':False,'MSFT':False, 'MS': True,\n",
    "               'NVDA':True, 'TSLA':True,'VOO':False}"
   ]
  },
  {
   "cell_type": "markdown",
   "id": "683623b8",
   "metadata": {},
   "source": [
    "The plot depicts increasing mean and standard deviation. Additionally p-value > 0.05. Hence, the timeseries is not stationary.\n",
    "\n",
    "Additionally, the test statistics exceeds the critical values. As a result, the data is nonlinear."
   ]
  },
  {
   "cell_type": "markdown",
   "id": "daa534d6",
   "metadata": {},
   "source": [
    "### Make the time-series stationary"
   ]
  },
  {
   "cell_type": "markdown",
   "id": "bc81ed40",
   "metadata": {},
   "source": [
    "### ACF and PACF plots "
   ]
  },
  {
   "cell_type": "code",
   "execution_count": null,
   "id": "abc4ac52",
   "metadata": {},
   "outputs": [],
   "source": [
    "shift = 1\n",
    "for arima,col in models:\n",
    "    print(col)\n",
    "    data = arima.time_series_data\n",
    "    if convert_log[col]:\n",
    "        data = arima.log_data(data)\n",
    "    diff_data = arima.difference_data(data,shift)[1:]\n",
    "    arima.check_stationarity(diff_data)\n",
    "    arima.acf_pacf_plots(diff_data)"
   ]
  },
  {
   "cell_type": "markdown",
   "id": "02bfc74c-c428-40da-a701-e87d87b8e4b4",
   "metadata": {},
   "source": [
    "All p-values are well below the threshold, so we can consider the difference time series to be stationary. So the degree d of ARIMA(p,d,q) for all stocks is 1."
   ]
  },
  {
   "cell_type": "markdown",
   "id": "c66a6f07-826f-4488-a469-9f1d5c2af317",
   "metadata": {},
   "source": [
    "For p and q values, we will use the auto arima function to get the parameters for the ARIMA model"
   ]
  },
  {
   "cell_type": "code",
   "execution_count": null,
   "id": "278b51e0-58b7-4ab5-a198-1ccbabfdf0ad",
   "metadata": {},
   "outputs": [],
   "source": [
    "forecasted_data = test_data.copy()\n",
    "N = len(forecasted_data)\n",
    "for arima,col in models:\n",
    "    print(col)\n",
    "    data = arima.time_series_data\n",
    "    if convert_log[col]:\n",
    "        data = arima.log_data(data)\n",
    "    arima.fit_arima_parameters(data)\n",
    "    if convert_log[col]:\n",
    "        forecasted_data[col] = np.exp(arima.forecast(data,N))\n",
    "    else:\n",
    "        forecasted_data[col] = arima.forecast(data,N)\n"
   ]
  },
  {
   "cell_type": "code",
   "execution_count": 11,
   "id": "f6f6b852-a8e3-488f-8b32-8a07e6e44c66",
   "metadata": {},
   "outputs": [],
   "source": [
    "mpt = MPTOptimizer()\n",
    "l = list(test_data.columns)"
   ]
  },
  {
   "cell_type": "code",
   "execution_count": 28,
   "id": "6faf48c2-a61b-4afc-a5a8-9606e59c2696",
   "metadata": {},
   "outputs": [
    {
     "name": "stdout",
     "output_type": "stream",
     "text": [
      "Forecasted Data Allocation\n",
      "AAPL: 0.0\n",
      "AMD: 0.0\n",
      "AMZN: 0.0\n",
      "F: 0.0\n",
      "GOOG: 0.946\n",
      "INTC: 0.0\n",
      "JPM: 0.0\n",
      "MSFT: 0.0\n",
      "MS: 0.013\n",
      "NVDA: 0.041\n",
      "TSLA: 0.0\n",
      "VOO: 0.0\n"
     ]
    }
   ],
   "source": [
    "arima_allocs = mpt.optimize_portfolio(forecasted_data)\n",
    "print(\"Forecasted Data Allocation\")\n",
    "for val, ticker in zip(arima_allocs, l):\n",
    "    print(ticker + \": \" + str(round(val,3)))"
   ]
  },
  {
   "cell_type": "code",
   "execution_count": 31,
   "id": "8d438349-f1eb-481f-b290-e97562980c0a",
   "metadata": {},
   "outputs": [
    {
     "name": "stdout",
     "output_type": "stream",
     "text": [
      "MyOptimizer's Data Allocation\n",
      "AAPL: 0.0\n",
      "AMD: 0.575\n",
      "AMZN: 0.0\n",
      "F: 0.0\n",
      "GOOG: 0.0\n",
      "INTC: 0.0\n",
      "JPM: 0.0\n",
      "MSFT: 0.0\n",
      "MS: 0.0\n",
      "NVDA: 0.0\n",
      "TSLA: 0.425\n",
      "VOO: 0.0\n"
     ]
    }
   ],
   "source": [
    "mpt_allocs = mpt.optimize_portfolio(train_data)\n",
    "print(\"MyOptimizer's Data Allocation\")\n",
    "for val, ticker in zip(mpt_allocs, l):\n",
    "    print(ticker + \": \" + str(round(val,3)))"
   ]
  },
  {
   "cell_type": "code",
   "execution_count": 38,
   "id": "4b56ffae-f694-4b5f-adc1-9c9aec1f6092",
   "metadata": {},
   "outputs": [
    {
     "name": "stdout",
     "output_type": "stream",
     "text": [
      "ARIMA Metrics\n",
      "Mean: 0.002279612172871027\n",
      "Std Dev: 0.01868317143498768\n",
      "Calculated Risk: 0.6882949349264529\n",
      "Sharpe Ratio: 1.9369153409782316\n",
      "Treynor Ratio: 0.0014108305395238788\n",
      "Beta: 1.4775780042119955\n",
      "Alpha: 0.0008242031230432283\n"
     ]
    }
   ],
   "source": [
    "mean_arima, std_arima, cr_arima, sr_arima = utils.sharpe_ratio_metrics(test_data,arima_allocs)\n",
    "treynor_arima,beta_arima,alpha_arima = utils.treynor_ratio_metrics(test_data,arima_allocs,index_data)\n",
    "print(\"ARIMA Metrics\")\n",
    "print(\"Mean: \" + str(mean_arima))\n",
    "print(\"Std Dev: \" + str(std_arima))\n",
    "print(\"Calculated Risk: \" + str(cr_arima))\n",
    "print(\"Sharpe Ratio: \" + str(sr_arima))\n",
    "print(\"Treynor Ratio: \" + str(treynor_arima))\n",
    "print(\"Beta: \" + str(beta_arima))\n",
    "print(\"Alpha: \" + str(alpha_arima))"
   ]
  },
  {
   "cell_type": "code",
   "execution_count": 39,
   "id": "c7ddd109-bf5e-468c-9fdf-4243dbd8c1a7",
   "metadata": {},
   "outputs": [
    {
     "name": "stdout",
     "output_type": "stream",
     "text": [
      "MyOptimizer Metrics\n",
      "Mean: 0.0037035781427625465\n",
      "Std Dev: 0.026665311927018966\n",
      "Calculated Risk: 1.300369837144856\n",
      "Sharpe Ratio: 2.204830024939359\n",
      "Treynor Ratio: 0.0037035781427625465\n",
      "Beta: 0.026665311927018966\n",
      "Alpha: 1.300369837144856\n"
     ]
    }
   ],
   "source": [
    "mean_mpt, std_mpt,cr_mpt, sr_mpt = utils.sharpe_ratio_metrics(test_data,mpt_allocs)\n",
    "treynor_mpt,beta_mpt,alpha_mpt = utils.treynor_ratio_metrics(test_data,mpt_allocs,index_data)\n",
    "print(\"MyOptimizer Metrics\")\n",
    "print(\"Mean: \" + str(mean_mpt))\n",
    "print(\"Std Dev: \" + str(std_mpt))\n",
    "print(\"Calculated Risk: \" + str(cr_mpt))\n",
    "print(\"Sharpe Ratio: \" + str(sr_mpt))\n",
    "print(\"Treynor Ratio: \" + str(treynor_mpt))\n",
    "print(\"Beta: \" + str(beta_mpt))\n",
    "print(\"Alpha: \" + str(alpha_mpt))\n",
    "\n"
   ]
  },
  {
   "cell_type": "code",
   "execution_count": 40,
   "id": "60309861-4529-46db-98cd-adcbe61cff66",
   "metadata": {},
   "outputs": [],
   "source": [
    "kmeans_allocs = [0,0,0,0,0,0,1.0/3,0,0,1.0/3,0,1.0/3]"
   ]
  },
  {
   "cell_type": "code",
   "execution_count": 41,
   "id": "8912805c-39bf-464e-87ff-39e3179452ef",
   "metadata": {},
   "outputs": [
    {
     "name": "stdout",
     "output_type": "stream",
     "text": [
      "KMeans Metrics\n",
      "Mean: 0.0024301205188770833\n",
      "Std Dev: 0.014783100219931046\n",
      "Calculated Risk: 0.781850563290013\n",
      "Sharpe Ratio: 2.6095316083410802\n",
      "Treynor Ratio: 0.0016551490943836425\n",
      "Beta: 1.3504043390782356\n",
      "Alpha: 0.0010999770743897988\n"
     ]
    }
   ],
   "source": [
    "mean_kmeans, std_kmeans,cr_kmeans, sr_kmeans = utils.sharpe_ratio_metrics(test_data,kmeans_allocs)\n",
    "treynor_kmeans,beta_kmeans,alpha_kmeans = utils.treynor_ratio_metrics(test_data,kmeans_allocs,index_data)\n",
    "\n",
    "print(\"KMeans Metrics\")\n",
    "print(\"Mean: \" + str(mean_kmeans))\n",
    "print(\"Std Dev: \" + str(std_kmeans))\n",
    "print(\"Calculated Risk: \" + str(cr_kmeans))\n",
    "print(\"Sharpe Ratio: \" + str(sr_kmeans))\n",
    "print(\"Treynor Ratio: \" + str(treynor_kmeans))\n",
    "print(\"Beta: \" + str(beta_kmeans))\n",
    "print(\"Alpha: \" + str(alpha_kmeans))\n"
   ]
  },
  {
   "cell_type": "code",
   "execution_count": 42,
   "id": "47fc67e8-50f1-49da-99e4-e6368c37327e",
   "metadata": {},
   "outputs": [],
   "source": [
    "kmeans_pca_allocs = [0,0,0,0,0,0,1.0/4,0,0,1.0/4,1.0/4,1.0/4]"
   ]
  },
  {
   "cell_type": "code",
   "execution_count": 43,
   "id": "7c67ab1f-ca11-4070-94e3-b22172cae88d",
   "metadata": {},
   "outputs": [
    {
     "name": "stdout",
     "output_type": "stream",
     "text": [
      "KMeans w PCA Metrics\n",
      "Mean: 0.0026206417196446407\n",
      "Std Dev: 0.016077347286175023\n",
      "Calculated Risk: 0.8587911153777297\n",
      "Sharpe Ratio: 2.5875784638461745\n",
      "Treynor Ratio: 0.001601420466597952\n",
      "Beta: 1.514681353359782\n",
      "Alpha: 0.0011286860036004566\n"
     ]
    }
   ],
   "source": [
    "mean_kmeans_pca, std_kmeans_pca,cr_kmeans_pca, sr_kmeans_pca = utils.sharpe_ratio_metrics(test_data,kmeans_pca_allocs)\n",
    "treynor_kmeans_pca,beta_kmeans_pca,alpha_kmeans_pca = utils.treynor_ratio_metrics(test_data,kmeans_pca_allocs,index_data)\n",
    "\n",
    "\n",
    "print(\"KMeans w PCA Metrics\")\n",
    "print(\"Mean: \" + str(mean_kmeans_pca))\n",
    "print(\"Std Dev: \" + str(std_kmeans_pca))\n",
    "print(\"Calculated Risk: \" + str(cr_kmeans_pca))\n",
    "print(\"Sharpe Ratio: \" + str(sr_kmeans_pca))\n",
    "print(\"Treynor Ratio: \" + str(treynor_kmeans_pca))\n",
    "print(\"Beta: \" + str(beta_kmeans_pca))\n",
    "print(\"Alpha: \" + str(alpha_kmeans_pca))"
   ]
  },
  {
   "cell_type": "markdown",
   "id": "7e002136",
   "metadata": {},
   "source": [
    "# LSTM for portfolio allocation"
   ]
  },
  {
   "cell_type": "code",
   "execution_count": 3,
   "id": "5e41a8da",
   "metadata": {},
   "outputs": [],
   "source": [
    "from src.myLSTM import MyLSTM"
   ]
  },
  {
   "cell_type": "code",
   "execution_count": 4,
   "id": "1061c461",
   "metadata": {},
   "outputs": [
    {
     "name": "stdout",
     "output_type": "stream",
     "text": [
      "--------------------------------------------------\n",
      "Fitting model for ticker: AMD\n",
      "--------------------------------------------------\n",
      "Epoch 0/1000, Loss=0.11573061347007751\n",
      "Epoch 100/1000, Loss=0.07552224397659302\n",
      "Epoch 200/1000, Loss=0.0609564371407032\n",
      "Epoch 300/1000, Loss=0.056224383413791656\n",
      "Epoch 400/1000, Loss=0.054768215864896774\n",
      "Epoch 500/1000, Loss=0.05421651154756546\n",
      "Epoch 600/1000, Loss=0.053926873952150345\n",
      "Epoch 700/1000, Loss=0.053742676973342896\n",
      "Epoch 800/1000, Loss=0.05361279472708702\n",
      "Epoch 900/1000, Loss=0.053510796278715134\n",
      "Epoch 1000/1000, Loss=0.053416818380355835\n",
      "--------------------------------------------------\n",
      "Fitting model for ticker: AMZN\n",
      "--------------------------------------------------\n",
      "Epoch 0/1000, Loss=1.2716909646987915\n",
      "Epoch 100/1000, Loss=0.990641713142395\n",
      "Epoch 200/1000, Loss=0.7894865870475769\n",
      "Epoch 300/1000, Loss=0.6266152262687683\n",
      "Epoch 400/1000, Loss=0.47739729285240173\n",
      "Epoch 500/1000, Loss=0.2989822030067444\n",
      "Epoch 600/1000, Loss=0.06315738707780838\n",
      "Epoch 700/1000, Loss=0.0175942312926054\n",
      "Epoch 800/1000, Loss=0.008467214182019234\n",
      "Epoch 900/1000, Loss=0.0036236485466361046\n",
      "Epoch 1000/1000, Loss=0.0019371460657566786\n",
      "--------------------------------------------------\n",
      "Fitting model for ticker: F\n",
      "--------------------------------------------------\n",
      "Epoch 0/1000, Loss=0.48173218965530396\n",
      "Epoch 100/1000, Loss=0.26546749472618103\n",
      "Epoch 200/1000, Loss=0.09138369560241699\n",
      "Epoch 300/1000, Loss=0.028431357815861702\n",
      "Epoch 400/1000, Loss=0.019952090457081795\n",
      "Epoch 500/1000, Loss=0.017675230279564857\n",
      "Epoch 600/1000, Loss=0.015676474198698997\n",
      "Epoch 700/1000, Loss=0.013743044808506966\n",
      "Epoch 800/1000, Loss=0.011858071200549603\n",
      "Epoch 900/1000, Loss=0.01001945324242115\n",
      "Epoch 1000/1000, Loss=0.008246080949902534\n",
      "--------------------------------------------------\n",
      "Fitting model for ticker: GOOG\n",
      "--------------------------------------------------\n",
      "Epoch 0/1000, Loss=0.13580222427845\n",
      "Epoch 100/1000, Loss=0.08410332351922989\n",
      "Epoch 200/1000, Loss=0.07235082238912582\n",
      "Epoch 300/1000, Loss=0.0576896145939827\n",
      "Epoch 400/1000, Loss=0.036067523062229156\n",
      "Epoch 500/1000, Loss=0.008137144148349762\n",
      "Epoch 600/1000, Loss=0.0011365108657628298\n",
      "Epoch 700/1000, Loss=0.001030527986586094\n",
      "Epoch 800/1000, Loss=0.0009734939667396247\n",
      "Epoch 900/1000, Loss=0.000938118202611804\n",
      "Epoch 1000/1000, Loss=0.0009129192330874503\n",
      "--------------------------------------------------\n",
      "Fitting model for ticker: INTC\n",
      "--------------------------------------------------\n",
      "Epoch 0/1000, Loss=0.8832651376724243\n",
      "Epoch 100/1000, Loss=0.6373838186264038\n",
      "Epoch 200/1000, Loss=0.369098424911499\n",
      "Epoch 300/1000, Loss=0.16992279887199402\n",
      "Epoch 400/1000, Loss=0.07902942597866058\n",
      "Epoch 500/1000, Loss=0.04530089348554611\n",
      "Epoch 600/1000, Loss=0.033783625811338425\n",
      "Epoch 700/1000, Loss=0.028338519856333733\n",
      "Epoch 800/1000, Loss=0.023906946182250977\n",
      "Epoch 900/1000, Loss=0.02030946873128414\n",
      "Epoch 1000/1000, Loss=0.01747945509850979\n",
      "--------------------------------------------------\n",
      "Fitting model for ticker: JPM\n",
      "--------------------------------------------------\n",
      "Epoch 0/1000, Loss=1.5161254405975342\n",
      "Epoch 100/1000, Loss=0.9875549674034119\n",
      "Epoch 200/1000, Loss=0.702494204044342\n",
      "Epoch 300/1000, Loss=0.520784318447113\n",
      "Epoch 400/1000, Loss=0.39304202795028687\n",
      "Epoch 500/1000, Loss=0.29878416657447815\n",
      "Epoch 600/1000, Loss=0.22774045169353485\n",
      "Epoch 700/1000, Loss=0.17387017607688904\n",
      "Epoch 800/1000, Loss=0.13312804698944092\n",
      "Epoch 900/1000, Loss=0.10253841429948807\n",
      "Epoch 1000/1000, Loss=0.07978522032499313\n",
      "--------------------------------------------------\n",
      "Fitting model for ticker: MSFT\n",
      "--------------------------------------------------\n",
      "Epoch 0/1000, Loss=0.16181598603725433\n",
      "Epoch 100/1000, Loss=0.0914035439491272\n",
      "Epoch 200/1000, Loss=0.07387585192918777\n",
      "Epoch 300/1000, Loss=0.06866961717605591\n",
      "Epoch 400/1000, Loss=0.06528699398040771\n",
      "Epoch 500/1000, Loss=0.06102656573057175\n",
      "Epoch 600/1000, Loss=0.05464200675487518\n",
      "Epoch 700/1000, Loss=0.045115478336811066\n",
      "Epoch 800/1000, Loss=0.03235110267996788\n",
      "Epoch 900/1000, Loss=0.018574263900518417\n",
      "Epoch 1000/1000, Loss=0.009007764048874378\n",
      "--------------------------------------------------\n",
      "Fitting model for ticker: MS\n",
      "--------------------------------------------------\n",
      "Epoch 0/1000, Loss=0.08725480735301971\n",
      "Epoch 100/1000, Loss=0.07512819766998291\n",
      "Epoch 200/1000, Loss=0.06763984262943268\n",
      "Epoch 300/1000, Loss=0.04543955251574516\n",
      "Epoch 400/1000, Loss=0.008846151642501354\n",
      "Epoch 500/1000, Loss=0.002786890836432576\n",
      "Epoch 600/1000, Loss=0.002413546433672309\n",
      "Epoch 700/1000, Loss=0.0021120510064065456\n",
      "Epoch 800/1000, Loss=0.0018562483601272106\n",
      "Epoch 900/1000, Loss=0.0016374981496483088\n",
      "Epoch 1000/1000, Loss=0.0014509327011182904\n",
      "--------------------------------------------------\n",
      "Fitting model for ticker: NVDA\n",
      "--------------------------------------------------\n",
      "Epoch 0/1000, Loss=0.1945233941078186\n",
      "Epoch 100/1000, Loss=0.11501927673816681\n",
      "Epoch 200/1000, Loss=0.0962575376033783\n",
      "Epoch 300/1000, Loss=0.08622004091739655\n",
      "Epoch 400/1000, Loss=0.0789799913764\n",
      "Epoch 500/1000, Loss=0.07341224700212479\n",
      "Epoch 600/1000, Loss=0.06891859322786331\n",
      "Epoch 700/1000, Loss=0.06512638926506042\n",
      "Epoch 800/1000, Loss=0.06177541986107826\n",
      "Epoch 900/1000, Loss=0.058666374534368515\n",
      "Epoch 1000/1000, Loss=0.05563591793179512\n",
      "--------------------------------------------------\n",
      "Fitting model for ticker: TSLA\n",
      "--------------------------------------------------\n",
      "Epoch 0/1000, Loss=0.1721155047416687\n",
      "Epoch 100/1000, Loss=0.09990081936120987\n",
      "Epoch 200/1000, Loss=0.06651502847671509\n",
      "Epoch 300/1000, Loss=0.056142810732126236\n",
      "Epoch 400/1000, Loss=0.049118898808956146\n",
      "Epoch 500/1000, Loss=0.0402987040579319\n",
      "Epoch 600/1000, Loss=0.02517901174724102\n",
      "Epoch 700/1000, Loss=0.003206072375178337\n",
      "Epoch 800/1000, Loss=0.0012186584062874317\n",
      "Epoch 900/1000, Loss=0.001132165314629674\n",
      "Epoch 1000/1000, Loss=0.0010744987521320581\n",
      "--------------------------------------------------\n",
      "Fitting model for ticker: VOO\n",
      "--------------------------------------------------\n",
      "Epoch 0/1000, Loss=0.7923057675361633\n",
      "Epoch 100/1000, Loss=0.6150058507919312\n",
      "Epoch 200/1000, Loss=0.4159533381462097\n",
      "Epoch 300/1000, Loss=0.17388571798801422\n",
      "Epoch 400/1000, Loss=0.0852632075548172\n",
      "Epoch 500/1000, Loss=0.07670591026544571\n",
      "Epoch 600/1000, Loss=0.07380028069019318\n",
      "Epoch 700/1000, Loss=0.0715959370136261\n",
      "Epoch 800/1000, Loss=0.0696999728679657\n",
      "Epoch 900/1000, Loss=0.06791368871927261\n",
      "Epoch 1000/1000, Loss=0.06609077006578445\n"
     ]
    }
   ],
   "source": [
    "seq_len = 100\n",
    "num_epochs = 1000\n",
    "# Fit all tickers and get models, loss tracks, and predictions\n",
    "models, all_loss_tracks, all_y_preds = MyLSTM.fit_all_tickers(train_data, test_data, seq_len, num_epochs)\n"
   ]
  },
  {
   "cell_type": "code",
   "execution_count": null,
   "id": "4f9e160d",
   "metadata": {},
   "outputs": [],
   "source": [
    "# Test the models\n",
    "MyLSTM.test(models, test_data, all_loss_tracks, all_y_preds)"
   ]
  },
  {
   "cell_type": "code",
   "execution_count": null,
   "id": "9076b0ae",
   "metadata": {},
   "outputs": [],
   "source": []
  }
 ],
 "metadata": {
  "kernelspec": {
   "display_name": "Python 3 (ipykernel)",
   "language": "python",
   "name": "python3"
  },
  "language_info": {
   "codemirror_mode": {
    "name": "ipython",
    "version": 3
   },
   "file_extension": ".py",
   "mimetype": "text/x-python",
   "name": "python",
   "nbconvert_exporter": "python",
   "pygments_lexer": "ipython3",
   "version": "3.11.8"
  }
 },
 "nbformat": 4,
 "nbformat_minor": 5
}
